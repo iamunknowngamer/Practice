import matplotlib.pyplot as plt

x = [10, 20, 20, 22, 30, 35, 35, 40, 42, 50]
plt.hist(x , color='b', edgecolor = 'r')
plt.xlabel("X")
plt.ylabel("Y")
plt.title("Histogram")
plt.show()
